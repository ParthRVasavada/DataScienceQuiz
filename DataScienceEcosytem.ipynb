{
 "cells": [
  {
   "cell_type": "markdown",
   "id": "fef3e44d-74bb-415f-957c-5840a1a7709c",
   "metadata": {},
   "source": [
    "# Data Science Tools and Ecosystem"
   ]
  },
  {
   "cell_type": "markdown",
   "id": "4cba018a-f84c-42de-976c-0472304eb1c8",
   "metadata": {},
   "source": [
    "In this notebook, Data Science Tools and Ecosystem are summarized."
   ]
  },
  {
   "cell_type": "markdown",
   "id": "f677b526-763a-48dd-a442-04690ef25731",
   "metadata": {},
   "source": [
    "**Objectives:**\n",
    "\n",
    "- Popular Languages used in Data Science\n",
    "- Commonly used Libraries in Data Science\n",
    "- Some Data Science tools explained in tabluar format"
   ]
  },
  {
   "cell_type": "markdown",
   "id": "e294f6df-301c-43f0-ba53-23a5f469c69c",
   "metadata": {},
   "source": [
    "Some of the popular languages that Data Scientists use are:\n",
    "\n",
    "1. C\n",
    "2. C++\n",
    "3. Python"
   ]
  },
  {
   "cell_type": "markdown",
   "id": "e5515749-55ca-4a5c-87f4-51fe74b601c8",
   "metadata": {},
   "source": [
    "Some of the commonly used libraries used by Data Scientists include:\n",
    "\n",
    "1. Pandas\n",
    "2. Matplotlib\n",
    "3. NumPy\n",
    "4. SciPy"
   ]
  },
  {
   "cell_type": "markdown",
   "id": "12c36c0f-7129-49cb-9386-94b9d3793e51",
   "metadata": {},
   "source": [
    "| Data Science Tools |\n",
    "| ----------------- |\n",
    "| Jupyter Notebook  |\n",
    "| RStudio           |\n",
    "| PyCharm           |\n"
   ]
  },
  {
   "cell_type": "markdown",
   "id": "d8c38a46-ece8-4d29-9fe1-8351465ccd47",
   "metadata": {},
   "source": [
    "### Below are a few examples of evaluating arithmetic expressions in Python"
   ]
  },
  {
   "cell_type": "code",
   "execution_count": 3,
   "id": "67d9f49e-a620-410b-a83e-ef2b0f8dee67",
   "metadata": {
    "tags": []
   },
   "outputs": [
    {
     "data": {
      "text/plain": [
       "17"
      ]
     },
     "execution_count": 3,
     "metadata": {},
     "output_type": "execute_result"
    }
   ],
   "source": [
    "#  This a simple arithmetic expression to mutiply then add integers\n",
    "(3*4)+5"
   ]
  },
  {
   "cell_type": "code",
   "execution_count": 4,
   "id": "5a254058-0e61-42f5-8995-19f429af78b3",
   "metadata": {
    "tags": []
   },
   "outputs": [
    {
     "data": {
      "text/plain": [
       "3.3333333333333335"
      ]
     },
     "execution_count": 4,
     "metadata": {},
     "output_type": "execute_result"
    }
   ],
   "source": [
    "# This will convert 200 minutes to hours by diving by 60\n",
    "200/60"
   ]
  },
  {
   "cell_type": "markdown",
   "id": "c951145c-6c1f-4df3-848d-0ad2df37e155",
   "metadata": {},
   "source": [
    "## Author\n",
    "\n",
    "Parth Rakesh Vasavada"
   ]
  },
  {
   "cell_type": "code",
   "execution_count": null,
   "id": "8fac4f91-5e37-4777-8914-be4ddd998cdd",
   "metadata": {},
   "outputs": [],
   "source": []
  }
 ],
 "metadata": {
  "kernelspec": {
   "display_name": "Python",
   "language": "python",
   "name": "conda-env-python-py"
  },
  "language_info": {
   "codemirror_mode": {
    "name": "ipython",
    "version": 3
   },
   "file_extension": ".py",
   "mimetype": "text/x-python",
   "name": "python",
   "nbconvert_exporter": "python",
   "pygments_lexer": "ipython3",
   "version": "3.7.12"
  }
 },
 "nbformat": 4,
 "nbformat_minor": 5
}
